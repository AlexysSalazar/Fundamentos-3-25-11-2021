{
  "nbformat": 4,
  "nbformat_minor": 0,
  "metadata": {
    "colab": {
      "name": "Fundamentos 3.ipynb",
      "provenance": []
    },
    "kernelspec": {
      "name": "python3",
      "display_name": "Python 3"
    },
    "language_info": {
      "name": "python"
    }
  },
  "cells": [
    {
      "cell_type": "markdown",
      "metadata": {
        "id": "sISU9hBVFx3l"
      },
      "source": [
        "Repetición:\n",
        "\n",
        "Este tipo de estructura nos permite automatizar la ejecución repetitiva de código mientas ciertas condiciones s cumplan, tenemos 3 variantes de esta estructura en todos los lenguajes de programación:\n",
        "\n",
        "Desde...hasta (estructura for)\n",
        "haz mientras (structura While)\n",
        "haz y luego validaz mientras( estructura Do-While)\n",
        "\n",
        "En todos los lenguajes de programacion existe un tipo especial de for, conocido como **For-each**"
      ]
    },
    {
      "cell_type": "code",
      "metadata": {
        "id": "_FK8-MH7FY_f"
      },
      "source": [
        "#funcion range ()\n",
        "# range (<INICIO>, <STOP>, <INCREMENTO>)\n",
        "x= range(0,10,2)\n",
        "print(x)\n",
        "\n",
        "\n",
        "for j in range(10): #range (0,10) --> 0,1,2,3,4,5,6,7,8,9\n",
        "    print(f\"Hola {j}\")\n",
        "\n",
        "print(\"-.-.-.-.-.-.-.\") \n",
        "for j in range(0,10,2): #range (0,10,2) --> 0,2,4,6,8\n",
        "    print(f\"Hola {j}\")\n",
        "\n",
        "print(\"-.-.-.-.-.-.-.-\")\n",
        "frutas = [\"Uva\",\"Aguacate\",\"Pera\",\"Manzana\",\"Sandia\"]\n",
        "\n",
        "print(frutas[0])\n",
        "print(frutas[1])\n",
        "print(frutas[2])\n",
        "print(frutas[3])\n",
        "print(frutas[4])\n",
        "\n",
        "print(\"-----Frutas----\")\n",
        "for index in range (5):\n",
        "    print(frutas[index])"
      ],
      "execution_count": null,
      "outputs": []
    },
    {
      "cell_type": "code",
      "metadata": {
        "id": "-FP806O8LScV"
      },
      "source": [
        "for i in range(5):\n",
        "    print(\"+++++\")"
      ],
      "execution_count": null,
      "outputs": []
    },
    {
      "cell_type": "markdown",
      "metadata": {
        "id": "-jCgTXp-MVK5"
      },
      "source": [
        "#25/11/2021"
      ]
    },
    {
      "cell_type": "code",
      "metadata": {
        "id": "ynSP1WhZMVrG"
      },
      "source": [
        "for x in range(1.20.1):\n",
        "    print(x)\n",
        "print(\"Fin del programa\")\n",
        "\n",
        "for x"
      ],
      "execution_count": null,
      "outputs": []
    },
    {
      "cell_type": "code",
      "metadata": {
        "id": "Mifb5SaUNqXX"
      },
      "source": [
        "#ejemplo 3.3\n",
        "CUESER = 0\n",
        "\n",
        "NUM=0\n",
        "N= int(input(\"Introduce un valor numerico mayor que 1: \"))\n",
        "for I in range(1,N+1,1):\n",
        "    N= int(input(\"Introduce un valor numerico: \"))\n",
        "    if N== 0:\n",
        "        CUESER += 1\n",
        "\n",
        "print(\"CUESER= \", CUESER) \n"
      ],
      "execution_count": null,
      "outputs": []
    },
    {
      "cell_type": "markdown",
      "metadata": {
        "id": "HaIZlnICQxkN"
      },
      "source": [
        "7 X 1 = 7\n",
        "7 X 2 = 14\n",
        "\n",
        "...\n",
        "\n",
        "7 X 10 = 70"
      ]
    },
    {
      "cell_type": "code",
      "metadata": {
        "id": "TxrF-AnrQp8X"
      },
      "source": [
        "for i in range(1, 11):\n",
        " print(f\"7 * {i} = \", 7*i)\n"
      ],
      "execution_count": null,
      "outputs": []
    },
    {
      "cell_type": "markdown",
      "metadata": {
        "id": "l1C1IcBJR50J"
      },
      "source": [
        "Came un numero entre 1 y 5 : 2\n",
        "\n",
        "Dame un numero entre 2 y 10 : 6\n",
        "\n",
        "\n"
      ]
    },
    {
      "cell_type": "code",
      "metadata": {
        "id": "FeajvXsmSIIT"
      },
      "source": [
        "N= int(input(\"Dame un numero entre 1 y 5\"))\n",
        "N2= int(input(f\"Dame un numero entre {N} y 10\"))\n",
        "\n",
        "for i in range(1, 11):\n",
        " print(f\"N * {i} = \", N*i)\n"
      ],
      "execution_count": null,
      "outputs": []
    },
    {
      "cell_type": "code",
      "metadata": {
        "id": "UyjN1g1oWFFa"
      },
      "source": [
        "#generador de lista\n",
        "numeros = [0,0,0,0,0]\n",
        "print(numeros)\n",
        "numeros = [0 for x in range(5)]\n",
        "print(numeros)\n",
        "#empleando la variable de control x para el valor inicial\n",
        "numeros = [x for x in range(5)]\n",
        "print(numeros)\n",
        "print(\".-.-.-.-\")\n",
        "numeros = [ x for x in range(10,101,10) ]\n",
        "print(numeros)"
      ],
      "execution_count": null,
      "outputs": []
    },
    {
      "cell_type": "code",
      "metadata": {
        "id": "7hn9_I3hYZVf"
      },
      "source": [
        "#ejercicio: calcular promedio de edades\n",
        "SUM = 0\n",
        "edades = [0 for x in range(5)]\n",
        "for x in range(5):\n",
        "    edades[x]= int(input(\"Introduce una edad: \"))\n",
        "    SUM = SUM + edades[x]\n",
        "    PROM = SUM/5\n",
        "print(edades)\n",
        "print(\"El promedio de edades es: \", PROM)"
      ],
      "execution_count": null,
      "outputs": []
    },
    {
      "cell_type": "code",
      "metadata": {
        "colab": {
          "base_uri": "https://localhost:8080/"
        },
        "id": "_V-itGe4cUJF",
        "outputId": "7b86c099-7119-4a22-c4fb-ed67f175c90e"
      },
      "source": [
        "import random\n",
        "print(random.random())\n",
        "print(random.uniform(5,11))\n",
        "val = round(random .uniform(5,11), 2)\n",
        "print(val)\n",
        "\n",
        "valores = [round(random.uniform(5,11),2) for x in range(20)]\n",
        "print(valores)"
      ],
      "execution_count": 47,
      "outputs": [
        {
          "output_type": "stream",
          "name": "stdout",
          "text": [
            "0.6775173658148625\n",
            "8.037318834647774\n",
            "10.67\n",
            "[6.88, 10.74, 10.52, 6.04, 10.58, 5.55, 10.07, 9.06, 8.55, 5.98, 7.31, 5.87, 7.94, 10.74, 9.8, 8.81, 7.09, 6.3, 8.61, 5.71]\n"
          ]
        }
      ]
    },
    {
      "cell_type": "markdown",
      "metadata": {
        "id": "vaMfZISldy5G"
      },
      "source": [
        "#tarea, hacer el programa identificando cual de los numero "
      ]
    }
  ]
}